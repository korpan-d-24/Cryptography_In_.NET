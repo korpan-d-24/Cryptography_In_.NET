{
 "cells": [
  {
   "cell_type": "markdown",
   "metadata": {},
   "source": [
    "## Криптографія - це дуже важлива річ для інформаційної безпеки. Інформаційна безпека складається з 4 частин:\n",
    "\n",
    "# Цілісність: гарантує, що документ не буде змінено\n",
    "# Конфіденційність: гарантує, що тільки уповноважені люди можуть читати документ\n",
    "# Аутентифікація: переконайтеся, що документ був написаний ідентифікованою особою\n",
    "# Невідворотність: довести, від кого/звідки прийшов документ, а також автентичність цього повідомлення, щоб відправник не зміг заперечити, що він його відправив.\n",
    "# Давайте подивимось, що надає .NET для кожної частини!"
   ]
  },
  {
   "cell_type": "markdown",
   "metadata": {},
   "source": [
    "# Генерація випадкових чисел\n",
    "Генерація випадкових чисел є поширеним способом створення криптографічних ключів. Ці ключі повинні бути якомога більш випадковими, щоб їх неможливо було передбачити. Не використовуйте System.Random для генерації криптографічних чисел. Замість цього використовуйте System.Security.Cryptography.RNGCryptoServiceProvider."
   ]
  },
  {
   "cell_type": "code",
   "execution_count": 34,
   "metadata": {
    "dotnet_interactive": {
     "language": "csharp"
    },
    "polyglot_notebook": {
     "kernelName": "csharp"
    }
   },
   "outputs": [],
   "source": [
    "static string GetRandomDataAsString(byte[] randomData)\n",
    "{\n",
    "    string hexString = BitConverter.ToString(randomData).Replace(\"-\", \"\");\n",
    "    return hexString;\n",
    "}"
   ]
  },
  {
   "cell_type": "code",
   "execution_count": 35,
   "metadata": {
    "dotnet_interactive": {
     "language": "csharp"
    },
    "polyglot_notebook": {
     "kernelName": "csharp"
    }
   },
   "outputs": [
    {
     "name": "stdout",
     "output_type": "stream",
     "text": [
      "E3DB84D2A18C125AE843C67F88B7B263\r\n"
     ]
    }
   ],
   "source": [
    "// old versions of .NET Frameworks\n",
    "byte[] GetRandomData(int length)\n",
    "{\n",
    "    using (var rngCsp = new System.Security.Cryptography.RNGCryptoServiceProvider())\n",
    "    {\n",
    "        var randomData = new byte[length];\n",
    "        rngCsp.GetBytes(randomData);\n",
    "        return randomData;\n",
    "    }\n",
    "}\n",
    "\n",
    "byte[] randomData = GetRandomData(16); // Generate 16 bytes of random data\n",
    "Console.WriteLine(GetRandomDataAsString(randomData));"
   ]
  },
  {
   "cell_type": "code",
   "execution_count": 36,
   "metadata": {
    "dotnet_interactive": {
     "language": "csharp"
    },
    "polyglot_notebook": {
     "kernelName": "csharp"
    }
   },
   "outputs": [
    {
     "name": "stdout",
     "output_type": "stream",
     "text": [
      "EE4F56805D9D48886B1CED603B60335F\r\n"
     ]
    }
   ],
   "source": [
    "using System.Security.Cryptography;\n",
    "// .NET Core 2.1+\n",
    "static byte[] GetRandomData(int length)\n",
    "{\n",
    "    var randomData = new byte[length];\n",
    "    RandomNumberGenerator.Fill(randomData);\n",
    "    return randomData;\n",
    "}\n",
    "\n",
    "byte[] randomData = GetRandomData(16); // Generate 16 bytes of random data\n",
    "Console.WriteLine(GetRandomDataAsString(randomData));"
   ]
  },
  {
   "cell_type": "code",
   "execution_count": 14,
   "metadata": {
    "dotnet_interactive": {
     "language": "csharp"
    },
    "polyglot_notebook": {
     "kernelName": "csharp"
    }
   },
   "outputs": [
    {
     "name": "stdout",
     "output_type": "stream",
     "text": [
      "8A382A18DCA63DDEE3524A0C05127E73\r\n"
     ]
    }
   ],
   "source": [
    "using System.Security.Cryptography;\n",
    "// .NET 6 and higher\n",
    "byte[] GetRandomData(int length)\n",
    "{\n",
    "    return RandomNumberGenerator.GetBytes(length);\n",
    "}\n",
    "byte[] randomData = GetRandomData(16); // Generate 16 bytes of random data\n",
    "Console.WriteLine(GetRandomDataAsString(randomData));"
   ]
  },
  {
   "cell_type": "markdown",
   "metadata": {},
   "source": [
    "# Генерація криптографічного ключа з пароля\n",
    "Пароль має змінну довжину і часто складається лише з того, що користувач може ввести з клавіатури. У такому вигляді ви не можете використовувати його для шифрування даних. Дійсно, якщо ви хочете зашифрувати блок даних за допомогою AES 128, вам потрібен ключ фіксованої довжини 128 біт. Замість цього вам потрібно створити криптографічний ключ потрібного розміру з пароля користувача. Цим і займається \"Функція виведення ключа на основі пароля 2\" (PBKDF2). У .NET клас, який реалізує цей алгоритм, називається [Rfc2898DeriveBytes](https://learn.microsoft.com/en-us/dotnet/api/system.security.cryptography.rfc2898derivebytes?view=net-7.0&WT.mc_id=DT-MVP-5003978)"
   ]
  },
  {
   "cell_type": "code",
   "execution_count": 15,
   "metadata": {
    "dotnet_interactive": {
     "language": "csharp"
    },
    "polyglot_notebook": {
     "kernelName": "csharp"
    }
   },
   "outputs": [
    {
     "name": "stdout",
     "output_type": "stream",
     "text": [
      "4Nt/+Ir3PcPUXTI/wsPhAg==\r\n"
     ]
    }
   ],
   "source": [
    "string password = \"DenysTestPass\";\n",
    "\n",
    "byte[] salt;\n",
    "using (var derivedBytes = new System.Security.Cryptography.Rfc2898DeriveBytes(password, saltSize: 16, iterations: 50000, HashAlgorithmName.SHA256))\n",
    "{\n",
    "    salt = derivedBytes.Salt;\n",
    "    byte[] key = derivedBytes.GetBytes(16); // 128 bits key\n",
    "    Console.WriteLine(Convert.ToBase64String(key)); // Qs117rioEMXqseslxc5X4A==\n",
    "}"
   ]
  },
  {
   "cell_type": "markdown",
   "metadata": {},
   "source": [
    "Ви можете відтворити той самий ключ, використовуючи той самий пароль, ту саму кількість ітерацій, ту саму сіль і той самий алгоритм. Це означає, що вам потрібно десь зберігати цю інформацію (крім пароля!), щоб мати можливість використовувати її пізніше."
   ]
  },
  {
   "cell_type": "code",
   "execution_count": 16,
   "metadata": {
    "dotnet_interactive": {
     "language": "csharp"
    },
    "polyglot_notebook": {
     "kernelName": "csharp"
    }
   },
   "outputs": [
    {
     "name": "stdout",
     "output_type": "stream",
     "text": [
      "4Nt/+Ir3PcPUXTI/wsPhAg==\n",
      "4Nt/+Ir3PcPUXTI/wsPhAg==\n"
     ]
    }
   ],
   "source": [
    "byte[] key;\n",
    "using (var derivedBytes = new Rfc2898DeriveBytes(password, salt, iterations: 50000, HashAlgorithmName.SHA256))\n",
    "{\n",
    "    key = derivedBytes.GetBytes(16); // Same as the first generated key\n",
    "    Console.WriteLine(Convert.ToBase64String(key));\n",
    "}\n",
    "\n",
    "// .NET 6+\n",
    "Rfc2898DeriveBytes.Pbkdf2(password, salt, iterations: 50000, HashAlgorithmName.SHA256, outputLength: 16);\n",
    "Console.WriteLine(Convert.ToBase64String(key)); "
   ]
  },
  {
   "cell_type": "markdown",
   "metadata": {},
   "source": [
    "Якщо ви зміните один з параметрів, то отримаєте інший ключ:"
   ]
  },
  {
   "cell_type": "code",
   "execution_count": 17,
   "metadata": {
    "dotnet_interactive": {
     "language": "csharp"
    },
    "polyglot_notebook": {
     "kernelName": "csharp"
    }
   },
   "outputs": [
    {
     "name": "stdout",
     "output_type": "stream",
     "text": [
      "7w/O5TW0Voqu8Q8ftw9lEA==\r\n"
     ]
    }
   ],
   "source": [
    "// Number of iteration changed (49999 instead of 50000)\n",
    "using (var derivedBytes = new Rfc2898DeriveBytes(password, salt, iterations: 49999, HashAlgorithmName.SHA256))\n",
    "{\n",
    "    byte[] key = derivedBytes.GetBytes(16);\n",
    "    Console.WriteLine(Convert.ToBase64String(key));\n",
    "}"
   ]
  },
  {
   "cell_type": "markdown",
   "metadata": {},
   "source": [
    "# Хеш-алгоритми\n",
    "Хеш-алгоритми перетворюють двійкове повідомлення довільної довжини на менше двійкове значення фіксованої довжини. На один і той самий вхід повинен виходити один і той самий хеш. Якщо ви змінюєте один байт на вході, хеш повинен бути іншим. Якщо хеш криптографічно стійкий, його значення буде суттєво змінюватися. Хеш-алгоритм повинен мати наступні характеристики:\n",
    "\n",
    "# Повинно бути неможливо згенерувати конкретний хеш\n",
    "# Неможливо змінити повідомлення без зміни хешу\n",
    "# Неможливо знайти 2 різні вхідні дані з однаковими хешами\n",
    "\n",
    "Коли хтось хоче відправити дані комусь іншому, він може відправити дані і їх хеш. Отримувач може обчислити хеш отриманих даних і порівняти його зі значенням хешу, надісланого відправником. Таким чином одержувач може перевірити, що дані не були змінені під час передачі. Таким чином, ви можете перевірити цілісність даних."
   ]
  },
  {
   "cell_type": "markdown",
   "metadata": {},
   "source": [
    "![Alt text](image.png)"
   ]
  },
  {
   "cell_type": "markdown",
   "metadata": {},
   "source": [
    "У .NET ви можете використовувати будь-який клас, успадкований від HashAlgorithm. Однак деякі алгоритми, такі як [MD5](https://www.kb.cert.org/vuls/id/836068/) або [SHA1](https://security.googleblog.com/2017/02/announcing-first-sha1-collision.html), вважаються вразливими, оскільки вони не враховують попередні характеристики. Ви можете використовувати будь-які алгоритми, похідні від [SHA2](https://en.wikipedia.org/wiki/SHA-2), такі як SHA256, SHA384 або SHA512. Алгоритми [SHA3](https://en.wikipedia.org/wiki/SHA-3) підтримуються в .NET 8."
   ]
  },
  {
   "cell_type": "code",
   "execution_count": 18,
   "metadata": {
    "dotnet_interactive": {
     "language": "csharp"
    },
    "polyglot_notebook": {
     "kernelName": "csharp"
    }
   },
   "outputs": [],
   "source": [
    "using System.Security.Cryptography;\n",
    "byte[] ComputeHash(byte[] data)\n",
    "{\n",
    "    using (var sha256 = SHA256.Create())\n",
    "    {\n",
    "        return sha256.ComputeHash(data);\n",
    "    }\n",
    "}\n",
    "\n",
    "// .NET 5.0+\n",
    "byte[] LambdaComputeHash(byte[] data) => SHA256.HashData(data);"
   ]
  },
  {
   "cell_type": "markdown",
   "metadata": {},
   "source": [
    "# Автентифіковане хешування (HMAC)\n",
    "Код автентифікації повідомлення на основі хешування (HMAC) можна використовувати для перевірки як цілісності даних, так і автентичності повідомлення. Він працює як класичний хеш-алгоритм, за винятком того, що вам потрібен секретний ключ для генерації та перевірки хешу: HMAC = хеш + криптографічний ключ. Тільки той, хто володіє секретним ключем, може згенерувати і перевірити хеш. Поки ключ секретний, ви знаєте, хто згенерував хеш.\n",
    "\n",
    "HMAC дуже корисний, коли ви надсилаєте комусь повідомлення і очікуєте, що він поверне його назад. Тоді ви можете переконатися, що повідомлення дійсно було створено вами і не було змінено. Наприклад, ASP.NET WebForms надсилає клієнту стан перегляду та його HMAC. Коли клієнт надсилає POST-запит на сервер, він повертає значення ViewState. Сервер може перевірити, що HMAC ViewState був згенерований сервером і не був змінений клієнтом."
   ]
  },
  {
   "cell_type": "markdown",
   "metadata": {},
   "source": [
    "![Alt text](image-1.png)"
   ]
  },
  {
   "cell_type": "markdown",
   "metadata": {},
   "source": [
    "# Попередження\n",
    "\n",
    "Спільний доступ до ключа між клієнтами суперечить меті автентифікації, оскільки будь-хто зможе створити дійсний хеш з даним ключем. Подумайте про використання секрету, який знають тільки сервер і клієнт."
   ]
  },
  {
   "cell_type": "code",
   "execution_count": 19,
   "metadata": {
    "dotnet_interactive": {
     "language": "csharp"
    },
    "polyglot_notebook": {
     "kernelName": "csharp"
    }
   },
   "outputs": [],
   "source": [
    "byte[] ComputeHmac256(byte[] key, byte[] data)\n",
    "{\n",
    "    using (var hmac = new HMACSHA256(key))\n",
    "    {\n",
    "        return hmac.ComputeHash(data);\n",
    "    }\n",
    "}"
   ]
  },
  {
   "cell_type": "code",
   "execution_count": 20,
   "metadata": {
    "dotnet_interactive": {
     "language": "csharp"
    },
    "polyglot_notebook": {
     "kernelName": "csharp"
    }
   },
   "outputs": [],
   "source": [
    "\n",
    "// .NET 6\n",
    "byte[] ComputeHmac256(byte[] key, byte[] data)\n",
    "{\n",
    "    return HMACSHA256.HashData(key, data);\n",
    "}"
   ]
  },
  {
   "cell_type": "markdown",
   "metadata": {},
   "source": [
    "# Шифрування\n",
    "Шифрування зашифровує вміст файлу, щоб тільки авторизовані користувачі могли його прочитати. Існує 2 способи шифрування даних. Перший відомий як симетричне шифрування. У цьому типі алгоритмів ключ для шифрування і розшифрування даних однаковий. Це означає, що вам потрібен безпечний спосіб передачі ключа іншим людям. Інший спосіб - асиметричне шифрування. Ключі для шифрування і дешифрування даних відрізняються. Ми часто використовуємо терміни \"відкритий ключ\" і \"закритий ключ\". Відкритий ключ дозволяє зашифрувати дані, щоб ви могли поділитися ними з будь-ким. Закритий ключ дозволяє розшифровувати дані, тому ви повинні зберігати його в таємниці.\n",
    "\n",
    "Основним симетричним алгоритмом є AES, а RSA - найпоширеніший асиметричний алгоритм. AES дуже швидкий і може використовуватися з даними будь-якої довжини. RSA набагато повільніший і не може зашифрувати дані, довжина яких перевищує розмір ключа."
   ]
  },
  {
   "cell_type": "markdown",
   "metadata": {},
   "source": [
    "# Примітка\n",
    "\n",
    "Шифрування не забезпечує цілісність даних. Вам потрібно використовувати хеш або HMAC, щоб переконатися, що дані, які ви розшифровуєте, не були змінені."
   ]
  },
  {
   "cell_type": "markdown",
   "metadata": {},
   "source": [
    "\n",
    "# Symmetric encryption\n"
   ]
  },
  {
   "cell_type": "markdown",
   "metadata": {},
   "source": [
    "![Alt text](image-2.png)"
   ]
  },
  {
   "cell_type": "markdown",
   "metadata": {},
   "source": [
    "# .NET надає декілька симетричних алгоритмів та декілька реалізацій для деяких алгоритмів:\n",
    "\n",
    "[AES](https://en.wikipedia.org/wiki/Advanced_Encryption_Standard): AESManaged, AesCng, AesCryptoServiceProvider\n",
    "\n",
    "[AES-GCM](https://en.wikipedia.org/wiki/Galois/Counter_Mode): AesGcm\n",
    "\n",
    "[DES](https://en.wikipedia.org/wiki/Data_Encryption_Standard): DESCryptoServiceProvider\n",
    "\n",
    "[RC2](https://en.wikipedia.org/wiki/RC2): RC2CryptoServiceProvider\n",
    "\n",
    "[Rijndael](https://en.wikipedia.org/wiki/Advanced_Encryption_Standard): RijndaelManaged\n",
    "\n",
    "[Triple_DES](https://en.wikipedia.org/wiki/Triple_DES): TripleDESCng, TripleDESCryptoServiceProvider"
   ]
  },
  {
   "cell_type": "markdown",
   "metadata": {},
   "source": [
    "AES\n",
    "Якщо ви не знаєте, який з них використовувати, ви можете почати з AES. AESManaged повністю реалізовано в .NET, однак ця реалізація не відповідає вимогам FIPS. AESCryptoServiceProvider використовує реалізацію Windows (CryptoAPI), яка сумісна з FIPS. Або ви можете створити екземпляр найкращого доступного постачальника за допомогою AES.Create().\n",
    "\n",
    "Існує декілька режимів AES, кожен з яких має своє застосування. Ця відповідь на [Stack Overflow](https://stackoverflow.com/questions/1220751/how-to-choose-an-aes-encryption-mode-cbc-ecb-ctr-ocb-cfb/22958889#22958889) дуже добре описує кожен режим. Зверніть увагу, що деякі з них ще не реалізовані в .NET."
   ]
  },
  {
   "cell_type": "code",
   "execution_count": 40,
   "metadata": {
    "dotnet_interactive": {
     "language": "csharp"
    },
    "polyglot_notebook": {
     "kernelName": "csharp"
    }
   },
   "outputs": [
    {
     "name": "stdout",
     "output_type": "stream",
     "text": [
      "690531B616FAD2F29B38233CECB9C2C2\n",
      "010203\n"
     ]
    }
   ],
   "source": [
    "static void Main()\n",
    "{\n",
    "    var key = GetRandomData((256 / 8));\n",
    "\n",
    "    var data = new byte[] { 1, 2, 3 };\n",
    "    var encryptedData = Encrypt(data, key, out var iv);\n",
    "    var decryptedData = Decrypt(encryptedData, key, iv);\n",
    "\n",
    "    Console.WriteLine(GetRandomDataAsString(encryptedData));\n",
    "    Console.WriteLine(GetRandomDataAsString(decryptedData));\n",
    "}\n",
    "\n",
    "static byte[] Encrypt(byte[] data, byte[] key, out byte[] iv)\n",
    "{\n",
    "    using var aes = Aes.Create();\n",
    "\n",
    "    // You should adjust the mode depending on what you want to encrypt.\n",
    "    // However, some mode may be weak or require additional security steps such as CBC: https://learn.microsoft.com/en-us/dotnet/standard/security/vulnerabilities-cbc-mode?WT.mc_id=DT-MVP-5003978\n",
    "    aes.Mode = CipherMode.CBC;\n",
    "\n",
    "    aes.Key = key;\n",
    "    aes.GenerateIV(); // You must use a new IV for each encryption for security purpose\n",
    "\n",
    "    using (var cryptoTransform = aes.CreateEncryptor())\n",
    "    {\n",
    "        iv = aes.IV;\n",
    "        return cryptoTransform.TransformFinalBlock(data, 0, data.Length);\n",
    "    }\n",
    "}\n",
    "\n",
    "static byte[] Decrypt(byte[] data, byte[] key, byte[] iv)\n",
    "{\n",
    "    using var aes = Aes.Create();\n",
    "    aes.Key = key;\n",
    "    aes.IV = iv;\n",
    "    aes.Mode = CipherMode.CBC; // same as for encryption\n",
    "\n",
    "    using (var cryptoTransform = aes.CreateDecryptor())\n",
    "    {\n",
    "        return cryptoTransform.TransformFinalBlock(data, 0, data.Length);\n",
    "    }\n",
    "}\n",
    "\n",
    "Main();"
   ]
  },
  {
   "cell_type": "markdown",
   "metadata": {},
   "source": [
    "# AES-GCM (AEAD)\n",
    "[AES-GCM](https://en.wikipedia.org/wiki/Galois/Counter_Mode) забезпечує конфіденційність і цілісність. Як і інші режими AES, він шифрує дані за допомогою ключа (конфіденційність). При розшифровці даних він гарантує, що повідомлення не було змінено (цілісність), чого не робиться в інших режимах. Ви можете розглядати його як безпечний спосіб поєднання AES і HMAC."
   ]
  },
  {
   "cell_type": "code",
   "execution_count": 43,
   "metadata": {
    "dotnet_interactive": {
     "language": "csharp"
    },
    "polyglot_notebook": {
     "kernelName": "csharp"
    }
   },
   "outputs": [
    {
     "name": "stdout",
     "output_type": "stream",
     "text": [
      "4DACA8\n",
      "010203\n"
     ]
    }
   ],
   "source": [
    "static void Main()\n",
    "{\n",
    "    var key = GetRandomData(256 / 8);\n",
    "\n",
    "    var data = new byte[] { 1, 2, 3 };\n",
    "    byte[]? associatedData = null; // Optional. If possible, provide something associated to the current context such as the current user id https://crypto.stackexchange.com/a/6716/16630\n",
    "    var encryptedAesGcmData = EncryptAesGcm(data, key, associatedData, out var tag, out var nonce);\n",
    "    var decryptedAesGcmData = DecryptAesGcm(encryptedAesGcmData, key, associatedData, tag, nonce);\n",
    "\n",
    "    Console.WriteLine(GetRandomDataAsString(encryptedAesGcmData));\n",
    "    Console.WriteLine(GetRandomDataAsString(decryptedAesGcmData));\n",
    "}\n",
    "\n",
    "public static byte[] EncryptAesGcm(byte[] data, byte[] key, byte[]? associatedData, out byte[] tag, out byte[] nonce)\n",
    "{\n",
    "    tag = new byte[AesGcm.TagByteSizes.MaxSize];\n",
    "    nonce = new byte[AesGcm.NonceByteSizes.MaxSize];\n",
    "    RandomNumberGenerator.Fill(nonce);\n",
    "\n",
    "    byte[] cipherText = new byte[data.Length];\n",
    "    using var cipher = new AesGcm(key);\n",
    "    cipher.Encrypt(nonce, data, cipherText, tag, associatedData);\n",
    "    return cipherText;\n",
    "}\n",
    "\n",
    "public static byte[] DecryptAesGcm(byte[] data, byte[] key, byte[]? associatedData, byte[] tag, byte[] nonce)\n",
    "{\n",
    "    byte[] decryptedData = new byte[data.Length];\n",
    "    using var cipher = new AesGcm(key);\n",
    "    cipher.Decrypt(nonce, data, tag, decryptedData, associatedData);\n",
    "    return decryptedData;\n",
    "}\n",
    "\n",
    "Main();"
   ]
  },
  {
   "cell_type": "markdown",
   "metadata": {},
   "source": [
    "# ChaCha20Poly1305 (AEAD)\n",
    "ChaCha20Poly1305 ([RFC 8439](https://datatracker.ietf.org/doc/html/rfc8439)) - це шифр [Authenticated Encryption with Associated Data (AEAD)](https://en.wikipedia.org/wiki/Authenticated_encryption), придатний для швидкої програмної реалізації, заснований на потоковому шифрі [ChaCha20](https://github.com/RustCrypto/stream-ciphers/tree/master/chacha20) та універсальній хеш-функції [Poly1305](https://github.com/RustCrypto/universal-hashes/tree/master/poly1305). ChaCha20Poly1305 є гарною альтернативою AES-GCM, коли машина не має апаратної підтримки AES. Дійсно, AES вразливий до [побічних каналів, заснованих на синхронізації](https://en.wikipedia.org/wiki/Advanced_Encryption_Standard#Side-channel_attacks), якщо це зроблено в програмному забезпеченні. Cloudflare написав два хороших пости про ChaCha20Poly1305: [It takes two to ChaCha (Poly)] (https://blog.cloudflare.com/it-takes-two-to-chacha-poly/), [Do the ChaCha: better mobile performance with cryptography.] (https://blog.cloudflare.com/do-the-chacha-better-mobile-performance-with-cryptography/)"
   ]
  },
  {
   "cell_type": "code",
   "execution_count": null,
   "metadata": {
    "dotnet_interactive": {
     "language": "csharp"
    },
    "polyglot_notebook": {
     "kernelName": "csharp"
    }
   },
   "outputs": [],
   "source": [
    "static void Main()\n",
    "{\n",
    "    var key = GetRandomData(32);\n",
    "\n",
    "    var data = new byte[] { 1, 2, 3 };\n",
    "    byte[]? associatedData = null; // Optional. If possible, provide something associated to the current context such as the current user id https://crypto.stackexchange.com/a/6716/16630\n",
    "    var encryptedChaCha20Poly1305 = EncryptChaCha20Poly1305(data, key, associatedData, out var tag, out var nonce);\n",
    "    var decryptedChaCha20Poly1305 = DecryptChaCha20Poly1305(encryptedChaCha20Poly1305, key, associatedData, tag, nonce);\n",
    "\n",
    "    Console.WriteLine(GetRandomDataAsString(encryptedChaCha20Poly1305));\n",
    "    Console.WriteLine(GetRandomDataAsString(decryptedChaCha20Poly1305));\n",
    "}\n",
    "\n",
    "public static byte[] EncryptChaCha20Poly1305(byte[] data, byte[] key, byte[]? associatedData, out byte[] tag, out byte[] nonce)\n",
    "{\n",
    "    tag = new byte[16];\n",
    "    nonce = GetRandomData(12);\n",
    "    byte[] cipherText = new byte[data.Length];\n",
    "    using var cipher = new  ChaCha20Poly1305(key);\n",
    "    cipher.Encrypt(nonce, data, cipherText, tag, associatedData);\n",
    "    return cipherText;\n",
    "}\n",
    "\n",
    "public static byte[] DecryptChaCha20Poly1305(byte[] data, byte[] key, byte[]? associatedData, byte[] tag, byte[] nonce)\n",
    "{\n",
    "    byte[] decryptedData = new byte[data.Length];\n",
    "    using var cipher = new ChaCha20Poly1305(key);\n",
    "    cipher.Decrypt(nonce, data, tag, decryptedData, associatedData);\n",
    "    return decryptedData;\n",
    "}\n",
    "\n",
    "Main();"
   ]
  },
  {
   "cell_type": "markdown",
   "metadata": {},
   "source": [
    "# Asymmetric encryption"
   ]
  },
  {
   "cell_type": "markdown",
   "metadata": {},
   "source": [
    "![Alt text](image-3.png)"
   ]
  },
  {
   "cell_type": "markdown",
   "metadata": {},
   "source": [
    "# .NET надає безліч асиметричних алгоритмів і безліч реалізацій для деяких алгоритмів:\n",
    "\n",
    "[DSA:](https://en.wikipedia.org/wiki/Digital_Signature_Algorithm) DSACng, DSACryptoServiceProvider, DSAOpenSsl\n",
    "\n",
    "[ECDiffieHellman:](https://en.wikipedia.org/wiki/Curve25519) ECDiffieHellmanCng, ECDiffieHellmanOpenSsl\n",
    "\n",
    "[ECDsa:](https://en.wikipedia.org/wiki/Elliptic_Curve_Digital_Signature_Algorithm) ECDsaCng, ECDsaOpenSsl\n",
    "\n",
    "[RSA:](https://en.wikipedia.org/wiki/RSA_(cryptosystem)) RSACng, RSACryptoServiceProvider, RSAOpenSsl"
   ]
  },
  {
   "cell_type": "markdown",
   "metadata": {},
   "source": [
    "Для шифрування даних можна використовувати RSA. Для довжини ключа слід використовувати щонайменше 2048 (NSA рекомендує 3072 або більше). Зверніть увагу, що RSA може шифрувати дані тільки до довжини ключа (включаючи пробіли). Отже, за допомогою ключа довжиною 2048 біт ви не зможете зашифрувати блок розміром 4096 біт. Вам потрібно буде розбити його на 2 блоки і зашифрувати їх окремо."
   ]
  },
  {
   "cell_type": "code",
   "execution_count": 49,
   "metadata": {
    "dotnet_interactive": {
     "language": "csharp"
    },
    "polyglot_notebook": {
     "kernelName": "csharp"
    }
   },
   "outputs": [
    {
     "name": "stdout",
     "output_type": "stream",
     "text": [
      "9C5983692474242D44BF2B6BA268CDBF06BC2D80229D4E5DDE923533F8D894FCD0B9A17EEC10808772478F4CE481AEDFF05F0C3457C33B26554E3ECAB5C40F7A1A6C334A9B0B4439D71AE84BAB833F00D7791E7DCA03983518972692F62774489D64762386F8A3C541E17DA8B22F122012F216562863A6BCB1620449D92B516BB1237559AB3F8387C87CDEC959179B87AB193FB1863711DC379BED87C4E5EB6B7FE506781DBCF43F0FE6141255EF0593F0B9DE71958602577185EE71CA584300F48B42E8ED386584EAD4A3299EDC45D83EA5574A646DDD59A6A5A08818C576612217D2B8DABAF96C14D4C0284D7429B5E4FFA834522B8557BA6AB36BF33A072D\n",
      "010203\n"
     ]
    }
   ],
   "source": [
    "static void Main()\n",
    "{\n",
    "    var data = new byte[] { 1, 2, 3 };\n",
    "    var (publicKey, privateKey) = GenerateKeys(2048);\n",
    "\n",
    "    var encryptedData = Encrypt(data, publicKey);\n",
    "    var decryptedData = Decrypt(encryptedData, privateKey);\n",
    "\n",
    "    Console.WriteLine(GetRandomDataAsString(encryptedData));\n",
    "    Console.WriteLine(GetRandomDataAsString(decryptedData));\n",
    "}\n",
    "\n",
    "static (RSAParameters publicKey, RSAParameters privateKey) GenerateKeys(int keyLength)\n",
    "{\n",
    "    using (var rsa = RSA.Create())\n",
    "    {\n",
    "        rsa.KeySize = keyLength;\n",
    "        return (\n",
    "            publicKey: rsa.ExportParameters(includePrivateParameters: false),\n",
    "            privateKey: rsa.ExportParameters(includePrivateParameters: true)\n",
    "        );\n",
    "    }\n",
    "}\n",
    "\n",
    "static byte[] Encrypt(byte[] data, RSAParameters publicKey)\n",
    "{\n",
    "    using (var rsa = RSA.Create())\n",
    "    {\n",
    "        rsa.ImportParameters(publicKey);\n",
    "\n",
    "        var result = rsa.Encrypt(data, RSAEncryptionPadding.OaepSHA256);\n",
    "        return result;\n",
    "    }\n",
    "}\n",
    "\n",
    "static byte[] Decrypt(byte[] data, RSAParameters privateKey)\n",
    "{\n",
    "    using (var rsa = RSA.Create())\n",
    "    {\n",
    "        rsa.ImportParameters(privateKey);\n",
    "        return rsa.Decrypt(data, RSAEncryptionPadding.OaepSHA256);\n",
    "    }\n",
    "}\n",
    "\n",
    "Main();"
   ]
  },
  {
   "cell_type": "markdown",
   "metadata": {},
   "source": [
    "# Гібридне шифрування\n",
    "Гібридне шифрування - це комбінація симетричних та асиметричних алгоритмів шифрування. Часто ви генеруєте симетричний ключ і шифруєте його за допомогою асиметричного алгоритму. Таким чином, ви використовуєте переваги асиметричного алгоритму для обміну ключем і можете використовувати швидкість AES порівняно з RSA для шифрування даних. Крім того, симетричний ключ досить малий, щоб його можна було зашифрувати за допомогою RSA. Зауважте, що ви також можете HMAC зашифровані дані за допомогою симетричного ключа, щоб перевірити цілісність даних."
   ]
  },
  {
   "cell_type": "markdown",
   "metadata": {},
   "source": [
    "# Цифровий підпис\n",
    "Цифровий підпис дозволяє перевірити автентичність документа. Ви знаєте, хто підписав документ, і можете підтвердити, що документ не був змінений після підписання. Підпис працює подібно до асиметричного шифрування. Ви підписуєте документ (або його хеш) за допомогою свого приватного ключа. І будь-хто зможе перевірити цей підпис за допомогою вашого відкритого ключа. Якщо відкритий ключ пов'язаний з сертифікатом, ви зможете підтвердити особу людини, яка підписала документ."
   ]
  },
  {
   "cell_type": "code",
   "execution_count": 52,
   "metadata": {
    "dotnet_interactive": {
     "language": "csharp"
    },
    "polyglot_notebook": {
     "kernelName": "csharp"
    }
   },
   "outputs": [
    {
     "name": "stdout",
     "output_type": "stream",
     "text": [
      "True\r\n"
     ]
    }
   ],
   "source": [
    "static void Main()\n",
    "{\n",
    "    var (publicKey, privateKey) = GenerateKeys(2048);\n",
    "\n",
    "    var data = new byte[] { 1, 2, 3 };\n",
    "    var signedData = Sign(data, privateKey);\n",
    "    var isValid = VerifySignature(data, signedData, publicKey);\n",
    "\n",
    "    Console.WriteLine(isValid);\n",
    "}\n",
    "\n",
    "static (RSAParameters publicKey, RSAParameters privateKey) GenerateKeys(int keyLength)\n",
    "{\n",
    "    using (var rsa = RSA.Create())\n",
    "    {\n",
    "        rsa.KeySize = keyLength;\n",
    "        return (\n",
    "            publicKey: rsa.ExportParameters(includePrivateParameters: false),\n",
    "            privateKey: rsa.ExportParameters(includePrivateParameters: true));\n",
    "    }\n",
    "}\n",
    "\n",
    "static byte[] Sign(byte[] data, RSAParameters privateKey)\n",
    "{\n",
    "    using (var rsa = RSA.Create())\n",
    "    {\n",
    "        rsa.ImportParameters(privateKey);\n",
    "\n",
    "        // the hash to sign\n",
    "        byte[] hash;\n",
    "        using (var sha256 = SHA256.Create())\n",
    "        {\n",
    "            hash = sha256.ComputeHash(data);\n",
    "        }\n",
    "\n",
    "        var rsaFormatter = new RSAPKCS1SignatureFormatter(rsa);\n",
    "        rsaFormatter.SetHashAlgorithm(\"SHA256\");\n",
    "        return rsaFormatter.CreateSignature(hash);\n",
    "    }\n",
    "}\n",
    "\n",
    "private static bool VerifySignature(byte[] data, byte[] signature, RSAParameters publicKey)\n",
    "{\n",
    "    using (var rsa = RSA.Create())\n",
    "    {\n",
    "        rsa.ImportParameters(publicKey);\n",
    "\n",
    "        // the hash to sign\n",
    "        byte[] hash;\n",
    "        using (var sha256 = SHA256.Create())\n",
    "        {\n",
    "            hash = sha256.ComputeHash(data);\n",
    "        }\n",
    "\n",
    "        var rsaFormatter = new RSAPKCS1SignatureDeformatter(rsa);\n",
    "        rsaFormatter.SetHashAlgorithm(\"SHA256\");\n",
    "        return rsaFormatter.VerifySignature(hash, signature);\n",
    "    }\n",
    "}\n",
    "\n",
    "Main();"
   ]
  },
  {
   "cell_type": "markdown",
   "metadata": {},
   "source": [
    "# Підпис XML-документів\n",
    "Існує стандарт для підписання XML-документів. Він працює майже так само, як і загальний алгоритм підпису, за винятком того, що підпис може бути включений в документ. Ви також можете підписати лише частину документа, якщо це необхідно."
   ]
  },
  {
   "cell_type": "code",
   "execution_count": 53,
   "metadata": {
    "dotnet_interactive": {
     "language": "csharp"
    },
    "polyglot_notebook": {
     "kernelName": "csharp"
    }
   },
   "outputs": [
    {
     "name": "stdout",
     "output_type": "stream",
     "text": [
      "True\r\n"
     ]
    }
   ],
   "source": [
    "using System.Xml;\n",
    "using System.Security.Cryptography.Xml;\n",
    "\n",
    "static void Main()\n",
    "{\n",
    "    var (publicKey, privateKey) = GenerateKeys(2048);\n",
    "\n",
    "    var document = new XmlDocument();\n",
    "    document.LoadXml(\"<Root><Author>Meziantou</Author></Root>\");\n",
    "\n",
    "    SignXml(document, privateKey);\n",
    "    var isValidXmlSignature = VerifyXmlSignature(document, publicKey);\n",
    "\n",
    "    Console.WriteLine(isValidXmlSignature);\n",
    "}\n",
    "\n",
    "public static void SignXml(XmlDocument xmlDocument, RSAParameters privateKey)\n",
    "{\n",
    "    using (var rsa = RSA.Create())\n",
    "    {\n",
    "        rsa.ImportParameters(privateKey);\n",
    "\n",
    "        var signedXml = new SignedXml(xmlDocument);\n",
    "        signedXml.SigningKey = rsa;\n",
    "\n",
    "        // Create a reference to be signed\n",
    "        var reference = new Reference(\"\"); // \"\" means entire document, https://learn.microsoft.com/en-us/dotnet/api/system.security.cryptography.xml.reference.uri?WT.mc_id=DT-MVP-5003978&view=dotnet-plat-ext-6.0\n",
    "        var env = new XmlDsigEnvelopedSignatureTransform();\n",
    "        reference.AddTransform(env);\n",
    "\n",
    "        // Add the reference to the SignedXml object and compute the signature\n",
    "        signedXml.AddReference(reference);\n",
    "        signedXml.ComputeSignature();\n",
    "\n",
    "        // Get the XML representation of the signature and add it to the document\n",
    "        XmlElement xmlDigitalSignature = signedXml.GetXml();\n",
    "        xmlDocument.DocumentElement.AppendChild(xmlDocument.ImportNode(xmlDigitalSignature, deep: true));\n",
    "    }\n",
    "}\n",
    "\n",
    "public static bool VerifyXmlSignature(XmlDocument xmlDocument, RSAParameters publicKey)\n",
    "{\n",
    "    using (var rsa = RSA.Create())\n",
    "    {\n",
    "        rsa.ImportParameters(publicKey);\n",
    "\n",
    "        var signatureElement = xmlDocument.GetElementsByTagName(\"Signature\").OfType<XmlElement>().FirstOrDefault();\n",
    "        var signedXml = new SignedXml(xmlDocument);\n",
    "        signedXml.LoadXml(signatureElement);\n",
    "\n",
    "        return signedXml.CheckSignature(rsa);\n",
    "    }\n",
    "}\n",
    "\n",
    "Main();"
   ]
  },
  {
   "cell_type": "markdown",
   "metadata": {},
   "source": [
    "# Here's the signed xml document:"
   ]
  },
  {
   "cell_type": "code",
   "execution_count": null,
   "metadata": {
    "dotnet_interactive": {
     "language": "pwsh"
    },
    "polyglot_notebook": {
     "kernelName": "pwsh"
    }
   },
   "outputs": [],
   "source": [
    "<Root>\n",
    "  <Author>Meziantou</Author>\n",
    "  <Signature xmlns=\"http://www.w3.org/2000/09/xmldsig#\">\n",
    "    <SignedInfo>\n",
    "      <CanonicalizationMethod Algorithm=\"http://www.w3.org/TR/2001/REC-xml-c14n-20010315\" />\n",
    "      <SignatureMethod Algorithm=\"http://www.w3.org/2001/04/xmldsig-more#rsa-sha256\" />\n",
    "      <Reference URI=\"\">\n",
    "        <Transforms>\n",
    "          <Transform Algorithm=\"http://www.w3.org/2000/09/xmldsig#enveloped-signature\" />\n",
    "        </Transforms>\n",
    "        <DigestMethod Algorithm=\"http://www.w3.org/2001/04/xmlenc#sha256\" />\n",
    "        <DigestValue>/nqzc97wNrLZ03VLo8ycnAFEOduEHAyUeP4nnPaiWU8=</DigestValue>\n",
    "      </Reference>\n",
    "    </SignedInfo>\n",
    "    <SignatureValue>MdtKVRg+esWEDv8+TqAt0XLWd7kzgWvluBk6i0IyirUMPnUKifnkA7DfRRKifXQagP+1jZ4LZ9dLNCzul1Y8w8ZZeE7dy40pdgYcppHl+1dq4qRnymz2yDwU3bg50ZoAAyLVcW3fn7AuN1QS4eOj5fhird9epIQQdVZz8f8hZMGHgpAhR+c2MFPW6EmzeAQ7XBrhMtc9GhIrwMCUczkSYFOHYp+jaTYPb8hfVvW2ACmApsKw5/a3uxQS/9+n4CTy4y5mdksjKZLRMOtLRlzStg4CSUnsYYsJK+1y3yfyQlIQuglTVi+K8yEX8ZI+C4jz8rTV3U5hbilNRZ3LMlVusA==</SignatureValue>\n",
    "  </Signature>\n",
    "</Root>"
   ]
  },
  {
   "cell_type": "markdown",
   "metadata": {},
   "source": [
    "# Висновок\n",
    ".NET Framework містить всі класи, необхідні для використання основних криптографічних алгоритмів. Більшість алгоритмів вимагають конфігурації. Обов'язково зверніться до документації, щоб дізнатися, які рекомендовані значення. Якщо вам потрібно використовувати алгоритм, який не передбачений фреймворком, обов'язково використовуйте зовнішню бібліотеку, яка дуже добре протестована і підтримується."
   ]
  }
 ],
 "metadata": {
  "kernelspec": {
   "display_name": ".NET (C#)",
   "language": "C#",
   "name": ".net-csharp"
  },
  "language_info": {
   "name": "polyglot-notebook"
  },
  "polyglot_notebook": {
   "kernelInfo": {
    "defaultKernelName": "csharp",
    "items": [
     {
      "aliases": [],
      "languageName": "csharp",
      "name": "csharp"
     }
    ]
   }
  }
 },
 "nbformat": 4,
 "nbformat_minor": 2
}
